{
  "nbformat": 4,
  "nbformat_minor": 0,
  "metadata": {
    "colab": {
      "provenance": []
    },
    "kernelspec": {
      "name": "python3",
      "display_name": "Python 3"
    },
    "language_info": {
      "name": "python"
    }
  },
  "cells": [
    {
      "cell_type": "code",
      "source": [
        "import pandas as pd\n",
        "import numpy as np\n",
        "from sklearn.model_selection import train_test_split\n",
        "from sklearn.linear_model import LinearRegression\n",
        "from sklearn.preprocessing import OneHotEncoder\n",
        "from sklearn.compose import ColumnTransformer\n",
        "from sklearn.impute import SimpleImputer\n",
        "from sklearn.pipeline import Pipeline\n",
        "from sklearn import metrics\n",
        "\n",
        "# Carga y preprocesamiento de datos\n",
        "df = pd.read_csv('/content/Indicadores_municipales_sabana_DA (1).csv', encoding='ISO-8859-1')\n",
        "df_procesado = df.drop(columns=['nom_mun', 'nom_ent'])\n",
        "\n",
        "# Valores promedio de categorías\n",
        "target_column = 'pobreza_alim_00'\n",
        "\n",
        "# Rellenamos los valores faltantes con los promedios\n",
        "promedio_global = np.nanmean(df_procesado[target_column])\n",
        "df_procesado[target_column] = df_procesado[target_column].fillna(promedio_global)\n",
        "\n",
        "# Identificar columnas categóricas\n",
        "columnas_categoricas = df_procesado.select_dtypes(include=['object']).columns\n",
        "\n",
        "# Construir un transformador para aplicar codificación one-hot a columnas categóricas\n",
        "transformador = ColumnTransformer(\n",
        "    transformers=[\n",
        "        ('onehot', OneHotEncoder(), columnas_categoricas)\n",
        "    ],\n",
        "    remainder='passthrough'\n",
        ")\n",
        "\n",
        "# Definir el modelo de regresión lineal con la codificación one-hot y manejo de valores faltantes\n",
        "modelo_regresion_lineal = Pipeline(steps=[\n",
        "    ('transformador', transformador),\n",
        "    ('imputador', SimpleImputer(strategy='mean', missing_values=np.nan)),  # Asegúrate de especificar missing_values\n",
        "    ('regresion_lineal', LinearRegression())\n",
        "])\n",
        "\n",
        "# Define el DataFrame eliminando la columna a predecir\n",
        "# Matriz de características X y la variable objetivo y\n",
        "X = df_procesado.drop(columns=[target_column])\n",
        "y = df_procesado[target_column]\n",
        "X_train, X_test, y_train, y_test = train_test_split(X, y, test_size=0.3, random_state=42)\n",
        "\n",
        "# Entrenar el modelo\n",
        "modelo_regresion_lineal.fit(X_train, y_train)\n",
        "\n",
        "# Realizar predicciones en el conjunto de prueba\n",
        "y_pred_regresion_lineal = modelo_regresion_lineal.predict(X_test)\n",
        "\n",
        "# Calcular la precisión del modelo\n",
        "precision_regresion_lineal = metrics.r2_score(y_test, y_pred_regresion_lineal)\n",
        "print(f\"Precisión del modelo de regresión lineal: {precision_regresion_lineal}\")\n",
        "\n",
        "# Mostrar las últimas diez reales y predictivas\n",
        "ultimas_diez_real = df_procesado[target_column].iloc[-10:]\n",
        "indices_ultimas_diez = ultimas_diez_real.index\n",
        "\n",
        "# Eliminar y adecuar\n",
        "X_ultimas_diez = df_procesado.loc[indices_ultimas_diez].drop(columns=[target_column])\n",
        "y_pred_regresion_lineal_ultimas_diez = modelo_regresion_lineal.predict(X_ultimas_diez)\n",
        "\n",
        "# Mostrar\n",
        "df_resultados_ultimas_diez = pd.DataFrame({\n",
        "    'Real (pobreza_alim_00)': ultimas_diez_real.values,\n",
        "    'Regresión Lineal': y_pred_regresion_lineal_ultimas_diez\n",
        "}, index=indices_ultimas_diez)\n",
        "\n",
        "print(df_resultados_ultimas_diez)\n"
      ],
      "metadata": {
        "colab": {
          "base_uri": "https://localhost:8080/"
        },
        "id": "wKF3p2z8liRe",
        "outputId": "f58e207f-04f9-44d5-8da0-7c6e848e8e16"
      },
      "execution_count": 6,
      "outputs": [
        {
          "output_type": "stream",
          "name": "stdout",
          "text": [
            "Precisión del modelo de regresión lineal: 0.999526811174915\n",
            "      Real (pobreza_alim_00)  Regresión Lineal\n",
            "2446                    34.1         33.749723\n",
            "2447                    22.8         23.034222\n",
            "2448                    39.2         39.207932\n",
            "2449                    27.7         28.276508\n",
            "2450                    35.5         35.604440\n",
            "2451                    47.9         47.803921\n",
            "2452                    20.0         20.108638\n",
            "2453                    14.2         14.497776\n",
            "2454                    29.4         29.778273\n",
            "2455                    37.2         37.447396\n"
          ]
        }
      ]
    }
  ]
}