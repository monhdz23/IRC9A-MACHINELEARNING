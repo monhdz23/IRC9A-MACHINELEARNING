{
  "nbformat": 4,
  "nbformat_minor": 0,
  "metadata": {
    "colab": {
      "provenance": []
    },
    "kernelspec": {
      "name": "python3",
      "display_name": "Python 3"
    },
    "language_info": {
      "name": "python"
    }
  },
  "cells": [
    {
      "cell_type": "code",
      "execution_count": 3,
      "metadata": {
        "id": "EomQKchcl5Tj",
        "colab": {
          "base_uri": "https://localhost:8080/"
        },
        "outputId": "7b9825f0-ae5b-40f7-c339-c71127e0c450"
      },
      "outputs": [
        {
          "output_type": "stream",
          "name": "stderr",
          "text": [
            "/usr/local/lib/python3.10/dist-packages/sklearn/naive_bayes.py:514: RuntimeWarning: divide by zero encountered in log\n",
            "  jointi = np.log(self.class_prior_[i])\n"
          ]
        },
        {
          "output_type": "stream",
          "name": "stdout",
          "text": [
            "Precisión del modelo Naive Bayes para regresión: -0.0730255841815397\n",
            "      Real (N_carencias)  Naive Bayes Regresión\n",
            "2446               30578                  14262\n",
            "2447               10693                  10879\n",
            "2448               38751                  38751\n",
            "2449               17558                  17558\n",
            "2450                9766                   9766\n",
            "2451               19772                  14262\n",
            "2452               24393                  24393\n",
            "2453               54282                   6130\n",
            "2454               18845                  14262\n",
            "2455                2486                   2486\n"
          ]
        },
        {
          "output_type": "stream",
          "name": "stderr",
          "text": [
            "/usr/local/lib/python3.10/dist-packages/sklearn/naive_bayes.py:514: RuntimeWarning: divide by zero encountered in log\n",
            "  jointi = np.log(self.class_prior_[i])\n"
          ]
        }
      ],
      "source": [
        "import pandas as pd\n",
        "import numpy as np\n",
        "from sklearn.model_selection import train_test_split\n",
        "from sklearn.naive_bayes import GaussianNB\n",
        "from sklearn import metrics\n",
        "\n",
        "# carga prepro\n",
        "df = pd.read_csv('/content/Indicadores_municipales_sabana_DA.csv', encoding='ISO-8859-1')\n",
        "df_procesado = df.drop(columns=['nom_mun', 'nom_ent'])\n",
        "\n",
        "# valores promedio de categorias\n",
        "categorias = ['Muy bajo', 'Bajo', 'Medio', 'Alto', 'Muy alto']\n",
        "for columna in df_procesado.columns:\n",
        "    if columna.startswith('gdo_rezsoc'):\n",
        "        valores_promedio = {}\n",
        "        for categoria in categorias:\n",
        "            valores_promedio[categoria] = np.nanmean(df_procesado[df_procesado[columna] == categoria].select_dtypes(include=[np.number]))\n",
        "\n",
        "        for categoria in categorias:\n",
        "            df_procesado[columna] = df_procesado[columna].replace(categoria, valores_promedio[categoria])\n",
        "\n",
        "# rellenamos los valores faltantes con los promedios\n",
        "promedio_global = np.nanmean(df_procesado.select_dtypes(include=[np.number]))\n",
        "df_procesado = df_procesado.fillna(promedio_global)\n",
        "\n",
        "# define df  eliminando la columna a predecir\n",
        "#matriz caracteristicas x y la variable objetivo y\n",
        "X = df_procesado.drop(columns=['N_carencias'])\n",
        "y = df_procesado['N_carencias']\n",
        "X_train, X_test, y_train, y_test = train_test_split(X, y, test_size=0.3, random_state=42)\n",
        "\n",
        "# asume los datos se distribuyen de acuerdo a dis gaussiana///clasificacion\n",
        "#se puede adaptar con partial fit\n",
        "modelo_naive_bayes_regresion = GaussianNB()\n",
        "\n",
        "# utilizamos partial fit para ajustar el modelo incrementalmente\n",
        "modelo_naive_bayes_regresion.partial_fit(X_train, y_train, np.unique(y))\n",
        "\n",
        "# partial.fit permite entrenar el modelo de lotes sucesivos\n",
        "#np.unique especifica las clases unicas presentes en el conjunto de etiquetas y\n",
        "#realiza predicciones, se almacena en y pred\n",
        "y_pred_naive_bayes_regresion = modelo_naive_bayes_regresion.predict(X_test)\n",
        "\n",
        "#\n",
        "precision_naive_bayes_regresion = metrics.r2_score(y_test, y_pred_naive_bayes_regresion)\n",
        "print(f\"Precisión del modelo Naive Bayes para regresión: {precision_naive_bayes_regresion}\")\n",
        "\n",
        "#muestra las ultimas diez reales y predictivas\n",
        "ultimas_diez_real = df['N_carencias'].iloc[-10:]\n",
        "indices_ultimas_diez = ultimas_diez_real.index\n",
        "\n",
        "#elimina y adecua\n",
        "X_ultimas_diez = df_procesado.loc[indices_ultimas_diez].drop(columns=['N_carencias'])\n",
        "y_pred_naive_bayes_regresion_ultimas_diez = modelo_naive_bayes_regresion.predict(X_ultimas_diez)\n",
        "\n",
        "# muestra\n",
        "df_resultados_ultimas_diez = pd.DataFrame({\n",
        "    'Real (N_carencias)': ultimas_diez_real.values,\n",
        "    'Naive Bayes Regresión': y_pred_naive_bayes_regresion_ultimas_diez\n",
        "}, index=indices_ultimas_diez)\n",
        "\n",
        "print(df_resultados_ultimas_diez)"
      ]
    }
  ]
}