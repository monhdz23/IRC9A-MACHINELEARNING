{
  "nbformat": 4,
  "nbformat_minor": 0,
  "metadata": {
    "colab": {
      "provenance": []
    },
    "kernelspec": {
      "name": "python3",
      "display_name": "Python 3"
    },
    "language_info": {
      "name": "python"
    }
  },
  "cells": [
    {
      "cell_type": "code",
      "execution_count": null,
      "metadata": {
        "colab": {
          "base_uri": "https://localhost:8080/"
        },
        "id": "sNj3xawZi8QV",
        "outputId": "45d8100e-8f1f-4738-e9bf-2ea67191ada2"
      },
      "outputs": [
        {
          "output_type": "stream",
          "name": "stdout",
          "text": [
            "   Age  EstimatedSalary   User ID  Male  Female  Purchased\n",
            "0   19            19000  15624510     1       0          0\n",
            "1   35            20000  15810944     1       0          0\n",
            "2   26            43000  15668575     0       1          0\n",
            "3   27            57000  15603246     0       1          0\n",
            "4   19            76000  15804002     1       0          0\n",
            "0.4890282131661442\n",
            "0.4875\n"
          ]
        }
      ],
      "source": [
        "import pandas as pd\n",
        "\n",
        "dataset = pd.read_csv(r'/content/Social_Network_Ads.csv', sep=\",\")\n",
        "\n",
        "dataset[\"Male\"] = (dataset[\"Gender\"] == \"Male\").astype(int)\n",
        "dataset[\"Female\"] = (dataset[\"Gender\"] == \"Female\").astype(int)\n",
        "\n",
        "dataset = dataset.drop(columns=\"Gender\")\n",
        "\n",
        "column_order = list(dataset.columns.difference([\"Male\", \"Female\", \"Purchased\"])) + [\"Male\", \"Female\"]+ [\"Purchased\"]\n",
        "dataset = dataset[column_order]\n",
        "\n",
        "print(dataset.head(5))\n",
        "\n",
        "#clasification\n",
        "from sklearn.linear_model import Perceptron\n",
        "\n",
        "xtrain = dataset.iloc[:319, 0:4]\n",
        "ytrain = dataset.iloc[:319, 4]\n",
        "xtest = dataset.iloc[320:, 0:4]\n",
        "ytest = dataset.iloc[320:, 4]\n",
        "\n",
        "# print(xtrain.head(1))\n",
        "# print(ytrain.head(1))\n",
        "# print(xtest.head(1))\n",
        "# print(ytest.head(1))\n",
        "\n",
        "clf = Perceptron(tol=1e-3, random_state=0)\n",
        "clf.fit(xtrain, ytrain)\n",
        "Perceptron()\n",
        "print(clf.score(xtrain, ytrain))\n",
        "print(clf.score(xtest, ytest))"
      ]
    }
  ]
}