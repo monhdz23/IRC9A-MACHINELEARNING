{
  "cells": [
    {
      "cell_type": "code",
      "execution_count": null,
      "metadata": {
        "colab": {
          "base_uri": "https://localhost:8080/"
        },
        "id": "VmWdnjasw6BC",
        "outputId": "a02dec7e-e888-41bc-85e4-870b89ef4b67"
      },
      "outputs": [
        {
          "output_type": "stream",
          "name": "stdout",
          "text": [
            "   age           job   marital  education default  balance housing loan  \\\n",
            "0   58    management   married   tertiary      no     2143     yes   no   \n",
            "1   44    technician    single  secondary      no       29     yes   no   \n",
            "2   33  entrepreneur   married  secondary      no        2     yes  yes   \n",
            "3   47   blue-collar   married    unknown      no     1506     yes   no   \n",
            "4   33       unknown    single    unknown      no        1      no   no   \n",
            "5   35    management   married   tertiary      no      231     yes   no   \n",
            "6   28    management    single   tertiary      no      447     yes  yes   \n",
            "7   42  entrepreneur  divorced   tertiary     yes        2     yes   no   \n",
            "8   58       retired   married    primary      no      121     yes   no   \n",
            "9   43    technician    single  secondary      no      593     yes   no   \n",
            "\n",
            "   contact  day month  duration  campaign  pdays  previous poutcome   y  \n",
            "0  unknown    5   may       261         1     -1         0  unknown  no  \n",
            "1  unknown    5   may       151         1     -1         0  unknown  no  \n",
            "2  unknown    5   may        76         1     -1         0  unknown  no  \n",
            "3  unknown    5   may        92         1     -1         0  unknown  no  \n",
            "4  unknown    5   may       198         1     -1         0  unknown  no  \n",
            "5  unknown    5   may       139         1     -1         0  unknown  no  \n",
            "6  unknown    5   may       217         1     -1         0  unknown  no  \n",
            "7  unknown    5   may       380         1     -1         0  unknown  no  \n",
            "8  unknown    5   may        50         1     -1         0  unknown  no  \n",
            "9  unknown    5   may        55         1     -1         0  unknown  no  \n",
            "                age        balance           day      duration      campaign  \\\n",
            "count  45211.000000   45211.000000  45211.000000  45211.000000  45211.000000   \n",
            "mean      40.936210    1362.272058     15.806419    258.163080      2.763841   \n",
            "std       10.618762    3044.765829      8.322476    257.527812      3.098021   \n",
            "min       18.000000   -8019.000000      1.000000      0.000000      1.000000   \n",
            "25%       33.000000      72.000000      8.000000    103.000000      1.000000   \n",
            "50%       39.000000     448.000000     16.000000    180.000000      2.000000   \n",
            "75%       48.000000    1428.000000     21.000000    319.000000      3.000000   \n",
            "max       95.000000  102127.000000     31.000000   4918.000000     63.000000   \n",
            "\n",
            "              pdays      previous  \n",
            "count  45211.000000  45211.000000  \n",
            "mean      40.197828      0.580323  \n",
            "std      100.128746      2.303441  \n",
            "min       -1.000000      0.000000  \n",
            "25%       -1.000000      0.000000  \n",
            "50%       -1.000000      0.000000  \n",
            "75%       -1.000000      0.000000  \n",
            "max      871.000000    275.000000  \n"
          ]
        }
      ],
      "source": [
        "import cv2\n",
        "import pandas as pd\n",
        "\n",
        "df = pd.read_csv(\"/content/bank-full - copia.csv\", sep=\";\")\n",
        "df.head(5)\n",
        "print(df.head(10))\n",
        "print(df.describe())"
      ]
    }
  ],
  "metadata": {
    "colab": {
      "provenance": []
    },
    "kernelspec": {
      "display_name": "Python 3",
      "name": "python3"
    },
    "language_info": {
      "name": "python"
    }
  },
  "nbformat": 4,
  "nbformat_minor": 0
}